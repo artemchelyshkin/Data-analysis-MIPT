{
 "cells": [
  {
   "cell_type": "code",
   "execution_count": 4,
   "id": "919cf96b",
   "metadata": {},
   "outputs": [
    {
     "name": "stdout",
     "output_type": "stream",
     "text": [
      "Bad Request\n"
     ]
    }
   ],
   "source": [
    "from bs4 import BeautifulSoup\n",
    "import requests\n",
    "import json\n",
    "from urllib.parse import urlparse\n",
    "\n",
    "url = \"https://yandex.ru/maps/api/business/fetchReviews?ajax=1&businessId=221702091001&csrfToken=97fd195e6cf78eb6f395d7c395d296ab5c11d1f1:1571717475&page=1&pageSize=5&ranking=by_time&reqId=1571655534207434-3187132131-sas1-1604&sessionId=1571655349968_626529\"\n",
    "\n",
    "url_post = \"https://yandex.ru/maps/api/business/fetchReviews\"\n",
    "\n",
    "s = requests.session()\n",
    "p = s.post(url_post)\n",
    "\n",
    "data = json.loads(p.content)\n",
    "\n",
    "parsed = urlparse(url)\n",
    "querys = parsed.query.split(\"&\")\n",
    "querys[2]='csrfToken'+\"=\"+data['csrfToken']\n",
    "querys = '&'.join(querys)\n",
    "\n",
    "url=url_post+\"?\"+querys\n",
    "\n",
    "r = s.get(url)\n",
    "\n",
    "soup = BeautifulSoup(r.content, 'html.parser')\n",
    "print(soup)"
   ]
  },
  {
   "cell_type": "code",
   "execution_count": null,
   "id": "8081983b",
   "metadata": {},
   "outputs": [],
   "source": []
  }
 ],
 "metadata": {
  "kernelspec": {
   "display_name": "Python 3 (ipykernel)",
   "language": "python",
   "name": "python3"
  },
  "language_info": {
   "codemirror_mode": {
    "name": "ipython",
    "version": 3
   },
   "file_extension": ".py",
   "mimetype": "text/x-python",
   "name": "python",
   "nbconvert_exporter": "python",
   "pygments_lexer": "ipython3",
   "version": "3.8.10"
  }
 },
 "nbformat": 4,
 "nbformat_minor": 5
}
